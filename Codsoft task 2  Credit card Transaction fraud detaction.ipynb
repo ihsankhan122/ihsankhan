{
 "cells": [
  {
   "cell_type": "code",
   "execution_count": 43,
   "id": "476acb0e",
   "metadata": {},
   "outputs": [],
   "source": [
    "\n",
    "import numpy as np \n",
    "import pandas as pd \n",
    "import matplotlib.pyplot as plt\n",
    "import os\n",
    "for dirname, _, filenames in os.walk('fraudTest.csv'):\n",
    "    for filename in filenames:\n",
    "        print(os.path.join(dirname, filename))"
   ]
  },
  {
   "cell_type": "code",
   "execution_count": 13,
   "id": "25fdffef",
   "metadata": {},
   "outputs": [
    {
     "data": {
      "text/html": [
       "<div>\n",
       "<style scoped>\n",
       "    .dataframe tbody tr th:only-of-type {\n",
       "        vertical-align: middle;\n",
       "    }\n",
       "\n",
       "    .dataframe tbody tr th {\n",
       "        vertical-align: top;\n",
       "    }\n",
       "\n",
       "    .dataframe thead th {\n",
       "        text-align: right;\n",
       "    }\n",
       "</style>\n",
       "<table border=\"1\" class=\"dataframe\">\n",
       "  <thead>\n",
       "    <tr style=\"text-align: right;\">\n",
       "      <th></th>\n",
       "      <th>Unnamed: 0</th>\n",
       "      <th>trans_date_trans_time</th>\n",
       "      <th>cc_num</th>\n",
       "      <th>merchant</th>\n",
       "      <th>category</th>\n",
       "      <th>amt</th>\n",
       "      <th>first</th>\n",
       "      <th>last</th>\n",
       "      <th>gender</th>\n",
       "      <th>street</th>\n",
       "      <th>...</th>\n",
       "      <th>lat</th>\n",
       "      <th>long</th>\n",
       "      <th>city_pop</th>\n",
       "      <th>job</th>\n",
       "      <th>dob</th>\n",
       "      <th>trans_num</th>\n",
       "      <th>unix_time</th>\n",
       "      <th>merch_lat</th>\n",
       "      <th>merch_long</th>\n",
       "      <th>is_fraud</th>\n",
       "    </tr>\n",
       "  </thead>\n",
       "  <tbody>\n",
       "    <tr>\n",
       "      <th>0</th>\n",
       "      <td>0</td>\n",
       "      <td>6/21/2020 12:14</td>\n",
       "      <td>2.291160e+15</td>\n",
       "      <td>fraud_Kirlin and Sons</td>\n",
       "      <td>personal_care</td>\n",
       "      <td>2.86</td>\n",
       "      <td>Jeff</td>\n",
       "      <td>Elliott</td>\n",
       "      <td>M</td>\n",
       "      <td>351 Darlene Green</td>\n",
       "      <td>...</td>\n",
       "      <td>33.9659</td>\n",
       "      <td>-80.9355</td>\n",
       "      <td>333497</td>\n",
       "      <td>Mechanical engineer</td>\n",
       "      <td>3/19/1968</td>\n",
       "      <td>2da90c7d74bd46a0caf3777415b3ebd3</td>\n",
       "      <td>1371816865</td>\n",
       "      <td>33.986391</td>\n",
       "      <td>-81.200714</td>\n",
       "      <td>0</td>\n",
       "    </tr>\n",
       "    <tr>\n",
       "      <th>1</th>\n",
       "      <td>1</td>\n",
       "      <td>6/21/2020 12:14</td>\n",
       "      <td>3.573030e+15</td>\n",
       "      <td>fraud_Sporer-Keebler</td>\n",
       "      <td>personal_care</td>\n",
       "      <td>29.84</td>\n",
       "      <td>Joanne</td>\n",
       "      <td>Williams</td>\n",
       "      <td>F</td>\n",
       "      <td>3638 Marsh Union</td>\n",
       "      <td>...</td>\n",
       "      <td>40.3207</td>\n",
       "      <td>-110.4360</td>\n",
       "      <td>302</td>\n",
       "      <td>Sales professional, IT</td>\n",
       "      <td>1/17/1990</td>\n",
       "      <td>324cc204407e99f51b0d6ca0055005e7</td>\n",
       "      <td>1371816873</td>\n",
       "      <td>39.450498</td>\n",
       "      <td>-109.960431</td>\n",
       "      <td>0</td>\n",
       "    </tr>\n",
       "    <tr>\n",
       "      <th>2</th>\n",
       "      <td>2</td>\n",
       "      <td>6/21/2020 12:14</td>\n",
       "      <td>3.598220e+15</td>\n",
       "      <td>fraud_Swaniawski, Nitzsche and Welch</td>\n",
       "      <td>health_fitness</td>\n",
       "      <td>41.28</td>\n",
       "      <td>Ashley</td>\n",
       "      <td>Lopez</td>\n",
       "      <td>F</td>\n",
       "      <td>9333 Valentine Point</td>\n",
       "      <td>...</td>\n",
       "      <td>40.6729</td>\n",
       "      <td>-73.5365</td>\n",
       "      <td>34496</td>\n",
       "      <td>Librarian, public</td>\n",
       "      <td>10/21/1970</td>\n",
       "      <td>c81755dbbbea9d5c77f094348a7579be</td>\n",
       "      <td>1371816893</td>\n",
       "      <td>40.495810</td>\n",
       "      <td>-74.196111</td>\n",
       "      <td>0</td>\n",
       "    </tr>\n",
       "    <tr>\n",
       "      <th>3</th>\n",
       "      <td>3</td>\n",
       "      <td>6/21/2020 12:15</td>\n",
       "      <td>3.591920e+15</td>\n",
       "      <td>fraud_Haley Group</td>\n",
       "      <td>misc_pos</td>\n",
       "      <td>60.05</td>\n",
       "      <td>Brian</td>\n",
       "      <td>Williams</td>\n",
       "      <td>M</td>\n",
       "      <td>32941 Krystal Mill Apt. 552</td>\n",
       "      <td>...</td>\n",
       "      <td>28.5697</td>\n",
       "      <td>-80.8191</td>\n",
       "      <td>54767</td>\n",
       "      <td>Set designer</td>\n",
       "      <td>7/25/1987</td>\n",
       "      <td>2159175b9efe66dc301f149d3d5abf8c</td>\n",
       "      <td>1371816915</td>\n",
       "      <td>28.812398</td>\n",
       "      <td>-80.883061</td>\n",
       "      <td>0</td>\n",
       "    </tr>\n",
       "    <tr>\n",
       "      <th>4</th>\n",
       "      <td>4</td>\n",
       "      <td>6/21/2020 12:15</td>\n",
       "      <td>3.526830e+15</td>\n",
       "      <td>fraud_Johnston-Casper</td>\n",
       "      <td>travel</td>\n",
       "      <td>3.19</td>\n",
       "      <td>Nathan</td>\n",
       "      <td>Massey</td>\n",
       "      <td>M</td>\n",
       "      <td>5783 Evan Roads Apt. 465</td>\n",
       "      <td>...</td>\n",
       "      <td>44.2529</td>\n",
       "      <td>-85.0170</td>\n",
       "      <td>1126</td>\n",
       "      <td>Furniture designer</td>\n",
       "      <td>7/6/1955</td>\n",
       "      <td>57ff021bd3f328f8738bb535c302a31b</td>\n",
       "      <td>1371816917</td>\n",
       "      <td>44.959148</td>\n",
       "      <td>-85.884734</td>\n",
       "      <td>0</td>\n",
       "    </tr>\n",
       "  </tbody>\n",
       "</table>\n",
       "<p>5 rows × 23 columns</p>\n",
       "</div>"
      ],
      "text/plain": [
       "   Unnamed: 0 trans_date_trans_time        cc_num  \\\n",
       "0           0       6/21/2020 12:14  2.291160e+15   \n",
       "1           1       6/21/2020 12:14  3.573030e+15   \n",
       "2           2       6/21/2020 12:14  3.598220e+15   \n",
       "3           3       6/21/2020 12:15  3.591920e+15   \n",
       "4           4       6/21/2020 12:15  3.526830e+15   \n",
       "\n",
       "                               merchant        category    amt   first  \\\n",
       "0                 fraud_Kirlin and Sons   personal_care   2.86    Jeff   \n",
       "1                  fraud_Sporer-Keebler   personal_care  29.84  Joanne   \n",
       "2  fraud_Swaniawski, Nitzsche and Welch  health_fitness  41.28  Ashley   \n",
       "3                     fraud_Haley Group        misc_pos  60.05   Brian   \n",
       "4                 fraud_Johnston-Casper          travel   3.19  Nathan   \n",
       "\n",
       "       last gender                       street  ...      lat      long  \\\n",
       "0   Elliott      M            351 Darlene Green  ...  33.9659  -80.9355   \n",
       "1  Williams      F             3638 Marsh Union  ...  40.3207 -110.4360   \n",
       "2     Lopez      F         9333 Valentine Point  ...  40.6729  -73.5365   \n",
       "3  Williams      M  32941 Krystal Mill Apt. 552  ...  28.5697  -80.8191   \n",
       "4    Massey      M     5783 Evan Roads Apt. 465  ...  44.2529  -85.0170   \n",
       "\n",
       "   city_pop                     job         dob  \\\n",
       "0    333497     Mechanical engineer   3/19/1968   \n",
       "1       302  Sales professional, IT   1/17/1990   \n",
       "2     34496       Librarian, public  10/21/1970   \n",
       "3     54767            Set designer   7/25/1987   \n",
       "4      1126      Furniture designer    7/6/1955   \n",
       "\n",
       "                          trans_num   unix_time  merch_lat  merch_long  \\\n",
       "0  2da90c7d74bd46a0caf3777415b3ebd3  1371816865  33.986391  -81.200714   \n",
       "1  324cc204407e99f51b0d6ca0055005e7  1371816873  39.450498 -109.960431   \n",
       "2  c81755dbbbea9d5c77f094348a7579be  1371816893  40.495810  -74.196111   \n",
       "3  2159175b9efe66dc301f149d3d5abf8c  1371816915  28.812398  -80.883061   \n",
       "4  57ff021bd3f328f8738bb535c302a31b  1371816917  44.959148  -85.884734   \n",
       "\n",
       "   is_fraud  \n",
       "0         0  \n",
       "1         0  \n",
       "2         0  \n",
       "3         0  \n",
       "4         0  \n",
       "\n",
       "[5 rows x 23 columns]"
      ]
     },
     "execution_count": 13,
     "metadata": {},
     "output_type": "execute_result"
    }
   ],
   "source": [
    "try:\n",
    "    train_df = pd.read_csv('fraudTest.csv')\n",
    "    test_df = pd.read_csv('fraudTest.csv')\n",
    "except:\n",
    "    train_df = pd.read_csv('fraudTest.csv')\n",
    "    test_df = pd.read_csv('fraudTest.csv')\n",
    "train_df.head()"
   ]
  },
  {
   "cell_type": "code",
   "execution_count": 14,
   "id": "e4db2022",
   "metadata": {},
   "outputs": [
    {
     "data": {
      "text/plain": [
       "Unnamed: 0               0\n",
       "trans_date_trans_time    0\n",
       "cc_num                   0\n",
       "merchant                 0\n",
       "category                 0\n",
       "amt                      0\n",
       "first                    0\n",
       "last                     0\n",
       "gender                   0\n",
       "street                   0\n",
       "city                     0\n",
       "state                    0\n",
       "zip                      0\n",
       "lat                      0\n",
       "long                     0\n",
       "city_pop                 0\n",
       "job                      0\n",
       "dob                      0\n",
       "trans_num                0\n",
       "unix_time                0\n",
       "merch_lat                0\n",
       "merch_long               0\n",
       "is_fraud                 0\n",
       "dtype: int64"
      ]
     },
     "execution_count": 14,
     "metadata": {},
     "output_type": "execute_result"
    }
   ],
   "source": [
    "train_df.isnull().sum()\n"
   ]
  },
  {
   "cell_type": "code",
   "execution_count": 33,
   "id": "c203c189",
   "metadata": {},
   "outputs": [
    {
     "data": {
      "image/png": "[encoded data removed]",
      "text/plain": [
       "<Figure size 432x288 with 1 Axes>"
      ]
     },
     "metadata": {
      "needs_background": "light"
     },
     "output_type": "display_data"
    }
   ],
   "source": [
    " train_df [\"is_fraud\"].value_counts().plot(kind=\"bar\",color=[\"red\",\"blue\"]);"
   ]
  },
  {
   "cell_type": "code",
   "execution_count": 35,
   "id": "29033d47",
   "metadata": {
    "scrolled": true
   },
   "outputs": [
    {
     "data": {
      "text/html": [
       "<div>\n",
       "<style scoped>\n",
       "    .dataframe tbody tr th:only-of-type {\n",
       "        vertical-align: middle;\n",
       "    }\n",
       "\n",
       "    .dataframe tbody tr th {\n",
       "        vertical-align: top;\n",
       "    }\n",
       "\n",
       "    .dataframe thead th {\n",
       "        text-align: right;\n",
       "    }\n",
       "</style>\n",
       "<table border=\"1\" class=\"dataframe\">\n",
       "  <thead>\n",
       "    <tr style=\"text-align: right;\">\n",
       "      <th></th>\n",
       "      <th>Unnamed: 0</th>\n",
       "      <th>cc_num</th>\n",
       "      <th>amt</th>\n",
       "      <th>zip</th>\n",
       "      <th>lat</th>\n",
       "      <th>long</th>\n",
       "      <th>city_pop</th>\n",
       "      <th>unix_time</th>\n",
       "      <th>merch_lat</th>\n",
       "      <th>merch_long</th>\n",
       "      <th>is_fraud</th>\n",
       "    </tr>\n",
       "  </thead>\n",
       "  <tbody>\n",
       "    <tr>\n",
       "      <th>count</th>\n",
       "      <td>555719.000000</td>\n",
       "      <td>5.557190e+05</td>\n",
       "      <td>555719.000000</td>\n",
       "      <td>555719.000000</td>\n",
       "      <td>555719.000000</td>\n",
       "      <td>555719.000000</td>\n",
       "      <td>5.557190e+05</td>\n",
       "      <td>5.557190e+05</td>\n",
       "      <td>555719.000000</td>\n",
       "      <td>555719.000000</td>\n",
       "      <td>555719.000000</td>\n",
       "    </tr>\n",
       "    <tr>\n",
       "      <th>mean</th>\n",
       "      <td>277859.000000</td>\n",
       "      <td>4.178387e+17</td>\n",
       "      <td>69.392810</td>\n",
       "      <td>48842.628015</td>\n",
       "      <td>38.543253</td>\n",
       "      <td>-90.231325</td>\n",
       "      <td>8.822189e+04</td>\n",
       "      <td>1.380679e+09</td>\n",
       "      <td>38.542798</td>\n",
       "      <td>-90.231380</td>\n",
       "      <td>0.003860</td>\n",
       "    </tr>\n",
       "    <tr>\n",
       "      <th>std</th>\n",
       "      <td>160422.401459</td>\n",
       "      <td>1.309837e+18</td>\n",
       "      <td>156.745941</td>\n",
       "      <td>26855.283328</td>\n",
       "      <td>5.061336</td>\n",
       "      <td>13.721780</td>\n",
       "      <td>3.003909e+05</td>\n",
       "      <td>5.201104e+06</td>\n",
       "      <td>5.095829</td>\n",
       "      <td>13.733071</td>\n",
       "      <td>0.062008</td>\n",
       "    </tr>\n",
       "    <tr>\n",
       "      <th>min</th>\n",
       "      <td>0.000000</td>\n",
       "      <td>6.041621e+10</td>\n",
       "      <td>1.000000</td>\n",
       "      <td>1257.000000</td>\n",
       "      <td>20.027100</td>\n",
       "      <td>-165.672300</td>\n",
       "      <td>2.300000e+01</td>\n",
       "      <td>1.371817e+09</td>\n",
       "      <td>19.027422</td>\n",
       "      <td>-166.671575</td>\n",
       "      <td>0.000000</td>\n",
       "    </tr>\n",
       "    <tr>\n",
       "      <th>25%</th>\n",
       "      <td>138929.500000</td>\n",
       "      <td>1.800430e+14</td>\n",
       "      <td>9.630000</td>\n",
       "      <td>26292.000000</td>\n",
       "      <td>34.668900</td>\n",
       "      <td>-96.798000</td>\n",
       "      <td>7.410000e+02</td>\n",
       "      <td>1.376029e+09</td>\n",
       "      <td>34.755302</td>\n",
       "      <td>-96.905129</td>\n",
       "      <td>0.000000</td>\n",
       "    </tr>\n",
       "    <tr>\n",
       "      <th>50%</th>\n",
       "      <td>277859.000000</td>\n",
       "      <td>3.521420e+15</td>\n",
       "      <td>47.290000</td>\n",
       "      <td>48174.000000</td>\n",
       "      <td>39.371600</td>\n",
       "      <td>-87.476900</td>\n",
       "      <td>2.408000e+03</td>\n",
       "      <td>1.380762e+09</td>\n",
       "      <td>39.376593</td>\n",
       "      <td>-87.445204</td>\n",
       "      <td>0.000000</td>\n",
       "    </tr>\n",
       "    <tr>\n",
       "      <th>75%</th>\n",
       "      <td>416788.500000</td>\n",
       "      <td>4.635330e+15</td>\n",
       "      <td>83.010000</td>\n",
       "      <td>72011.000000</td>\n",
       "      <td>41.894800</td>\n",
       "      <td>-80.175200</td>\n",
       "      <td>1.968500e+04</td>\n",
       "      <td>1.385867e+09</td>\n",
       "      <td>41.954163</td>\n",
       "      <td>-80.264637</td>\n",
       "      <td>0.000000</td>\n",
       "    </tr>\n",
       "    <tr>\n",
       "      <th>max</th>\n",
       "      <td>555718.000000</td>\n",
       "      <td>4.992350e+18</td>\n",
       "      <td>22768.110000</td>\n",
       "      <td>99921.000000</td>\n",
       "      <td>65.689900</td>\n",
       "      <td>-67.950300</td>\n",
       "      <td>2.906700e+06</td>\n",
       "      <td>1.388534e+09</td>\n",
       "      <td>66.679297</td>\n",
       "      <td>-66.952026</td>\n",
       "      <td>1.000000</td>\n",
       "    </tr>\n",
       "  </tbody>\n",
       "</table>\n",
       "</div>"
      ],
      "text/plain": [
       "          Unnamed: 0        cc_num            amt            zip  \\\n",
       "count  555719.000000  5.557190e+05  555719.000000  555719.000000   \n",
       "mean   277859.000000  4.178387e+17      69.392810   48842.628015   \n",
       "std    160422.401459  1.309837e+18     156.745941   26855.283328   \n",
       "min         0.000000  6.041621e+10       1.000000    1257.000000   \n",
       "25%    138929.500000  1.800430e+14       9.630000   26292.000000   \n",
       "50%    277859.000000  3.521420e+15      47.290000   48174.000000   \n",
       "75%    416788.500000  4.635330e+15      83.010000   72011.000000   \n",
       "max    555718.000000  4.992350e+18   22768.110000   99921.000000   \n",
       "\n",
       "                 lat           long      city_pop     unix_time  \\\n",
       "count  555719.000000  555719.000000  5.557190e+05  5.557190e+05   \n",
       "mean       38.543253     -90.231325  8.822189e+04  1.380679e+09   \n",
       "std         5.061336      13.721780  3.003909e+05  5.201104e+06   \n",
       "min        20.027100    -165.672300  2.300000e+01  1.371817e+09   \n",
       "25%        34.668900     -96.798000  7.410000e+02  1.376029e+09   \n",
       "50%        39.371600     -87.476900  2.408000e+03  1.380762e+09   \n",
       "75%        41.894800     -80.175200  1.968500e+04  1.385867e+09   \n",
       "max        65.689900     -67.950300  2.906700e+06  1.388534e+09   \n",
       "\n",
       "           merch_lat     merch_long       is_fraud  \n",
       "count  555719.000000  555719.000000  555719.000000  \n",
       "mean       38.542798     -90.231380       0.003860  \n",
       "std         5.095829      13.733071       0.062008  \n",
       "min        19.027422    -166.671575       0.000000  \n",
       "25%        34.755302     -96.905129       0.000000  \n",
       "50%        39.376593     -87.445204       0.000000  \n",
       "75%        41.954163     -80.264637       0.000000  \n",
       "max        66.679297     -66.952026       1.000000  "
      ]
     },
     "execution_count": 35,
     "metadata": {},
     "output_type": "execute_result"
    }
   ],
   "source": [
    "train_df.describe()"
   ]
  },
  {
   "cell_type": "code",
   "execution_count": 37,
   "id": "0d5c2884",
   "metadata": {},
   "outputs": [
    {
     "data": {
      "text/plain": [
       "F    304886\n",
       "M    250833\n",
       "Name: gender, dtype: int64"
      ]
     },
     "execution_count": 37,
     "metadata": {},
     "output_type": "execute_result"
    }
   ],
   "source": [
    "train_df.gender.value_counts()"
   ]
  },
  {
   "cell_type": "code",
   "execution_count": 39,
   "id": "62bd4c41",
   "metadata": {},
   "outputs": [
    {
     "data": {
      "text/html": [
       "<div>\n",
       "<style scoped>\n",
       "    .dataframe tbody tr th:only-of-type {\n",
       "        vertical-align: middle;\n",
       "    }\n",
       "\n",
       "    .dataframe tbody tr th {\n",
       "        vertical-align: top;\n",
       "    }\n",
       "\n",
       "    .dataframe thead th {\n",
       "        text-align: right;\n",
       "    }\n",
       "</style>\n",
       "<table border=\"1\" class=\"dataframe\">\n",
       "  <thead>\n",
       "    <tr style=\"text-align: right;\">\n",
       "      <th>gender</th>\n",
       "      <th>F</th>\n",
       "      <th>M</th>\n",
       "    </tr>\n",
       "    <tr>\n",
       "      <th>is_fraud</th>\n",
       "      <th></th>\n",
       "      <th></th>\n",
       "    </tr>\n",
       "  </thead>\n",
       "  <tbody>\n",
       "    <tr>\n",
       "      <th>0</th>\n",
       "      <td>303722</td>\n",
       "      <td>249852</td>\n",
       "    </tr>\n",
       "    <tr>\n",
       "      <th>1</th>\n",
       "      <td>1164</td>\n",
       "      <td>981</td>\n",
       "    </tr>\n",
       "  </tbody>\n",
       "</table>\n",
       "</div>"
      ],
      "text/plain": [
       "gender         F       M\n",
       "is_fraud                \n",
       "0         303722  249852\n",
       "1           1164     981"
      ]
     },
     "execution_count": 39,
     "metadata": {},
     "output_type": "execute_result"
    }
   ],
   "source": [
    "pd.crosstab(train_df.is_fraud,train_df.gender) "
   ]
  },
  {
   "cell_type": "code",
   "execution_count": 40,
   "id": "a2d8ee5e",
   "metadata": {},
   "outputs": [
    {
     "data": {
      "text/plain": [
       "1.2156076397227158"
      ]
     },
     "execution_count": 40,
     "metadata": {},
     "output_type": "execute_result"
    }
   ],
   "source": [
    "303722/249852"
   ]
  },
  {
   "cell_type": "code",
   "execution_count": 41,
   "id": "5d67ba0d",
   "metadata": {},
   "outputs": [
    {
     "data": {
      "text/plain": [
       "1.1865443425076452"
      ]
     },
     "execution_count": 41,
     "metadata": {},
     "output_type": "execute_result"
    }
   ],
   "source": [
    "1164/981"
   ]
  },
  {
   "cell_type": "code",
   "execution_count": 44,
   "id": "d57b5008",
   "metadata": {},
   "outputs": [
    {
     "data": {
      "image/png": "[encoded data removed]",
      "text/plain": [
       "<Figure size 504x360 with 1 Axes>"
      ]
     },
     "metadata": {
      "needs_background": "light"
     },
     "output_type": "display_data"
    }
   ],
   "source": [
    "\n",
    "exited_0_gender = pd.crosstab(train_df[train_df['is_fraud'] == 0].is_fraud, train_df[train_df['is_fraud'] == 0].gender)\n",
    "exited_0_gender.plot(kind=\"bar\", figsize=(7, 5), color=[\"red\", \"blue\"])\n",
    "plt.title(\"Fraud Detaction\")\n",
    "plt.xlabel(\"Exited=0\")\n",
    "plt.ylabel(\"Count\")\n",
    "plt.legend(('Male', 'Female'))\n",
    "plt.show()"
   ]
  },
  {
   "cell_type": "code",
   "execution_count": 50,
   "id": "af067ee3",
   "metadata": {},
   "outputs": [
    {
     "data": {
      "text/plain": [
       "<AxesSubplot:ylabel='Frequency'>"
      ]
     },
     "execution_count": 50,
     "metadata": {},
     "output_type": "execute_result"
    },
    {
     "data": {
      "image/png": "[encoded data removed]",
      "text/plain": [
       "<Figure size 432x288 with 1 Axes>"
      ]
     },
     "metadata": {
      "needs_background": "light"
     },
     "output_type": "display_data"
    }
   ],
   "source": [
    "train_df.city_pop.plot.hist()"
   ]
  },
  {
   "cell_type": "code",
   "execution_count": 59,
   "id": "1a04d9bb",
   "metadata": {},
   "outputs": [
    {
     "data": {
      "image/png": "[encoded data removed]",
      "text/plain": [
       "<Figure size 504x360 with 1 Axes>"
      ]
     },
     "metadata": {
      "needs_background": "light"
     },
     "output_type": "display_data"
    }
   ],
   "source": [
    "exited_0_gender1 = pd.crosstab(train_df[train_df['is_fraud'] == 0].is_fraud, train_df[train_df['is_fraud'] == 0].merchant)\n",
    "exited_0_gender1.plot(kind=\"bar\", figsize=(7, 5), color=[\"red\", \"yellow\"])\n",
    "plt.title(\"Fraud Detaction\")\n",
    "plt.xlabel(\"Exited=0\")\n",
    "plt.ylabel(\"Count\")\n",
    "plt.legend(('detacted', 'not detacted'))\n",
    "plt.show()"
   ]
  },
  {
   "cell_type": "code",
   "execution_count": null,
   "id": "32aae410",
   "metadata": {},
   "outputs": [],
   "source": []
  },
  {
   "cell_type": "code",
   "execution_count": 15,
   "id": "d982f22a",
   "metadata": {},
   "outputs": [],
   "source": [
    "def data_pre(X):\n",
    "    del_col=['merchant','first','last','street','zip','unix_time','Unnamed: 0','trans_num','cc_num']\n",
    "    X.drop(columns=del_col,inplace=True)\n",
    "   \n",
    "    \n",
    "    X['trans_date_trans_time']=pd.to_datetime(X['trans_date_trans_time'])\n",
    "    X['trans_date']=X['trans_date_trans_time'].dt.strftime('%Y-%m-%d')\n",
    "    X['trans_date']=pd.to_datetime(X['trans_date'])\n",
    "    \n",
    "    \n",
    "    X['dob']=pd.to_datetime(X['dob'])\n",
    "    \n",
    "    #Calculate Age of each trans \n",
    "    X[\"age\"] = (X[\"trans_date\"] - X[\"dob\"]).dt.days //365\n",
    "\n",
    "    \n",
    "    X['trans_month']=X['trans_date'].dt.month\n",
    "    X['trans_year']=X['trans_date'].dt.year\n",
    "    \n",
    "    X['gender']=X['gender'].apply(lambda x : 1 if x=='M' else 0)\n",
    "    X['gender']=X['gender'].astype(int)\n",
    "    X['lat_dis']=abs(X['lat']-X['merch_lat'])\n",
    "    X['long_dis']=abs(X['long']-X['merch_long'])\n",
    "    X=pd.get_dummies(X,columns=['category'])\n",
    "    X=X.drop(columns=['city','trans_date_trans_time','state','job','merch_lat','merch_long','lat','long','dob','trans_date'])\n",
    "    return X\n",
    "    "
   ]
  },
  {
   "cell_type": "code",
   "execution_count": 16,
   "id": "e0fa7a23",
   "metadata": {},
   "outputs": [],
   "source": [
    "train_df_pre=data_pre(train_df.copy())"
   ]
  },
  {
   "cell_type": "code",
   "execution_count": 17,
   "id": "68046a9d",
   "metadata": {},
   "outputs": [
    {
     "data": {
      "text/html": [
       "<div>\n",
       "<style scoped>\n",
       "    .dataframe tbody tr th:only-of-type {\n",
       "        vertical-align: middle;\n",
       "    }\n",
       "\n",
       "    .dataframe tbody tr th {\n",
       "        vertical-align: top;\n",
       "    }\n",
       "\n",
       "    .dataframe thead th {\n",
       "        text-align: right;\n",
       "    }\n",
       "</style>\n",
       "<table border=\"1\" class=\"dataframe\">\n",
       "  <thead>\n",
       "    <tr style=\"text-align: right;\">\n",
       "      <th></th>\n",
       "      <th>amt</th>\n",
       "      <th>gender</th>\n",
       "      <th>city_pop</th>\n",
       "      <th>is_fraud</th>\n",
       "      <th>age</th>\n",
       "      <th>trans_month</th>\n",
       "      <th>trans_year</th>\n",
       "      <th>lat_dis</th>\n",
       "      <th>long_dis</th>\n",
       "      <th>category_entertainment</th>\n",
       "      <th>...</th>\n",
       "      <th>category_grocery_pos</th>\n",
       "      <th>category_health_fitness</th>\n",
       "      <th>category_home</th>\n",
       "      <th>category_kids_pets</th>\n",
       "      <th>category_misc_net</th>\n",
       "      <th>category_misc_pos</th>\n",
       "      <th>category_personal_care</th>\n",
       "      <th>category_shopping_net</th>\n",
       "      <th>category_shopping_pos</th>\n",
       "      <th>category_travel</th>\n",
       "    </tr>\n",
       "  </thead>\n",
       "  <tbody>\n",
       "    <tr>\n",
       "      <th>0</th>\n",
       "      <td>2.86</td>\n",
       "      <td>1</td>\n",
       "      <td>333497</td>\n",
       "      <td>0</td>\n",
       "      <td>52</td>\n",
       "      <td>6</td>\n",
       "      <td>2020</td>\n",
       "      <td>0.020491</td>\n",
       "      <td>0.265214</td>\n",
       "      <td>0</td>\n",
       "      <td>...</td>\n",
       "      <td>0</td>\n",
       "      <td>0</td>\n",
       "      <td>0</td>\n",
       "      <td>0</td>\n",
       "      <td>0</td>\n",
       "      <td>0</td>\n",
       "      <td>1</td>\n",
       "      <td>0</td>\n",
       "      <td>0</td>\n",
       "      <td>0</td>\n",
       "    </tr>\n",
       "    <tr>\n",
       "      <th>1</th>\n",
       "      <td>29.84</td>\n",
       "      <td>0</td>\n",
       "      <td>302</td>\n",
       "      <td>0</td>\n",
       "      <td>30</td>\n",
       "      <td>6</td>\n",
       "      <td>2020</td>\n",
       "      <td>0.870202</td>\n",
       "      <td>0.475569</td>\n",
       "      <td>0</td>\n",
       "      <td>...</td>\n",
       "      <td>0</td>\n",
       "      <td>0</td>\n",
       "      <td>0</td>\n",
       "      <td>0</td>\n",
       "      <td>0</td>\n",
       "      <td>0</td>\n",
       "      <td>1</td>\n",
       "      <td>0</td>\n",
       "      <td>0</td>\n",
       "      <td>0</td>\n",
       "    </tr>\n",
       "    <tr>\n",
       "      <th>2</th>\n",
       "      <td>41.28</td>\n",
       "      <td>0</td>\n",
       "      <td>34496</td>\n",
       "      <td>0</td>\n",
       "      <td>49</td>\n",
       "      <td>6</td>\n",
       "      <td>2020</td>\n",
       "      <td>0.177090</td>\n",
       "      <td>0.659611</td>\n",
       "      <td>0</td>\n",
       "      <td>...</td>\n",
       "      <td>0</td>\n",
       "      <td>1</td>\n",
       "      <td>0</td>\n",
       "      <td>0</td>\n",
       "      <td>0</td>\n",
       "      <td>0</td>\n",
       "      <td>0</td>\n",
       "      <td>0</td>\n",
       "      <td>0</td>\n",
       "      <td>0</td>\n",
       "    </tr>\n",
       "    <tr>\n",
       "      <th>3</th>\n",
       "      <td>60.05</td>\n",
       "      <td>1</td>\n",
       "      <td>54767</td>\n",
       "      <td>0</td>\n",
       "      <td>32</td>\n",
       "      <td>6</td>\n",
       "      <td>2020</td>\n",
       "      <td>0.242698</td>\n",
       "      <td>0.063961</td>\n",
       "      <td>0</td>\n",
       "      <td>...</td>\n",
       "      <td>0</td>\n",
       "      <td>0</td>\n",
       "      <td>0</td>\n",
       "      <td>0</td>\n",
       "      <td>0</td>\n",
       "      <td>1</td>\n",
       "      <td>0</td>\n",
       "      <td>0</td>\n",
       "      <td>0</td>\n",
       "      <td>0</td>\n",
       "    </tr>\n",
       "    <tr>\n",
       "      <th>4</th>\n",
       "      <td>3.19</td>\n",
       "      <td>1</td>\n",
       "      <td>1126</td>\n",
       "      <td>0</td>\n",
       "      <td>65</td>\n",
       "      <td>6</td>\n",
       "      <td>2020</td>\n",
       "      <td>0.706248</td>\n",
       "      <td>0.867734</td>\n",
       "      <td>0</td>\n",
       "      <td>...</td>\n",
       "      <td>0</td>\n",
       "      <td>0</td>\n",
       "      <td>0</td>\n",
       "      <td>0</td>\n",
       "      <td>0</td>\n",
       "      <td>0</td>\n",
       "      <td>0</td>\n",
       "      <td>0</td>\n",
       "      <td>0</td>\n",
       "      <td>1</td>\n",
       "    </tr>\n",
       "  </tbody>\n",
       "</table>\n",
       "<p>5 rows × 23 columns</p>\n",
       "</div>"
      ],
      "text/plain": [
       "     amt  gender  city_pop  is_fraud  age  trans_month  trans_year   lat_dis  \\\n",
       "0   2.86       1    333497         0   52            6        2020  0.020491   \n",
       "1  29.84       0       302         0   30            6        2020  0.870202   \n",
       "2  41.28       0     34496         0   49            6        2020  0.177090   \n",
       "3  60.05       1     54767         0   32            6        2020  0.242698   \n",
       "4   3.19       1      1126         0   65            6        2020  0.706248   \n",
       "\n",
       "   long_dis  category_entertainment  ...  category_grocery_pos  \\\n",
       "0  0.265214                       0  ...                     0   \n",
       "1  0.475569                       0  ...                     0   \n",
       "2  0.659611                       0  ...                     0   \n",
       "3  0.063961                       0  ...                     0   \n",
       "4  0.867734                       0  ...                     0   \n",
       "\n",
       "   category_health_fitness  category_home  category_kids_pets  \\\n",
       "0                        0              0                   0   \n",
       "1                        0              0                   0   \n",
       "2                        1              0                   0   \n",
       "3                        0              0                   0   \n",
       "4                        0              0                   0   \n",
       "\n",
       "   category_misc_net  category_misc_pos  category_personal_care  \\\n",
       "0                  0                  0                       1   \n",
       "1                  0                  0                       1   \n",
       "2                  0                  0                       0   \n",
       "3                  0                  1                       0   \n",
       "4                  0                  0                       0   \n",
       "\n",
       "   category_shopping_net  category_shopping_pos  category_travel  \n",
       "0                      0                      0                0  \n",
       "1                      0                      0                0  \n",
       "2                      0                      0                0  \n",
       "3                      0                      0                0  \n",
       "4                      0                      0                1  \n",
       "\n",
       "[5 rows x 23 columns]"
      ]
     },
     "execution_count": 17,
     "metadata": {},
     "output_type": "execute_result"
    }
   ],
   "source": [
    "train_df_pre.head()"
   ]
  },
  {
   "cell_type": "code",
   "execution_count": 18,
   "id": "f0df8e10",
   "metadata": {},
   "outputs": [],
   "source": [
    "x_train=train_df_pre.drop('is_fraud',axis=1)\n",
    "y_train=train_df_pre['is_fraud']"
   ]
  },
  {
   "cell_type": "code",
   "execution_count": 20,
   "id": "d8c331e7",
   "metadata": {},
   "outputs": [],
   "source": [
    "test_df_pre=data_pre(test_df.copy())\n",
    "test_df_pre.head()\n",
    "x_test=test_df_pre.drop('is_fraud',axis=1)\n",
    "y_test=test_df_pre['is_fraud']\n"
   ]
  },
  {
   "cell_type": "code",
   "execution_count": 21,
   "id": "57637023",
   "metadata": {},
   "outputs": [],
   "source": [
    "from sklearn.linear_model import LogisticRegression\n",
    "from sklearn.tree import DecisionTreeClassifier\n",
    "from sklearn.ensemble import RandomForestClassifier\n",
    "from sklearn.metrics import accuracy_score, classification_report"
   ]
  },
  {
   "cell_type": "code",
   "execution_count": 24,
   "id": "47b091cc",
   "metadata": {},
   "outputs": [],
   "source": [
    "from sklearn.preprocessing import StandardScaler\n",
    "\n",
    "# Step 1: Fit the StandardScaler on the training data\n",
    "scaler = StandardScaler()\n",
    "scaler.fit(x_train)\n",
    "x_train=scaler.transform(x_train)\n",
    "x_test=scaler.transform(x_test)"
   ]
  },
  {
   "cell_type": "code",
   "execution_count": 25,
   "id": "b5934cfd",
   "metadata": {},
   "outputs": [
    {
     "data": {
      "text/plain": [
       "0.9958504208061988"
      ]
     },
     "execution_count": 25,
     "metadata": {},
     "output_type": "execute_result"
    }
   ],
   "source": [
    "logistic_regression=LogisticRegression()\n",
    "logistic_regression.fit(x_train,y_train)\n",
    "y_pred_logistic = logistic_regression.predict(x_test)\n",
    "accuracy_logistic = accuracy_score(y_test, y_pred_logistic)\n",
    "accuracy_logistic"
   ]
  },
  {
   "cell_type": "code",
   "execution_count": 29,
   "id": "369227f5",
   "metadata": {},
   "outputs": [
    {
     "data": {
      "text/plain": [
       "1.0"
      ]
     },
     "execution_count": 29,
     "metadata": {},
     "output_type": "execute_result"
    }
   ],
   "source": [
    "DecisionTree=DecisionTreeClassifier()\n",
    "DecisionTree.fit(x_train,y_train)\n",
    "y_pred_dt = DecisionTree.predict(x_test)\n",
    "accuracy_dt = accuracy_score(y_test, y_pred_dt)\n",
    "accuracy_dt"
   ]
  },
  {
   "cell_type": "code",
   "execution_count": 28,
   "id": "f27cfca9",
   "metadata": {},
   "outputs": [
    {
     "data": {
      "text/plain": [
       "0.9999964010588085"
      ]
     },
     "execution_count": 28,
     "metadata": {},
     "output_type": "execute_result"
    }
   ],
   "source": [
    "random_forest = RandomForestClassifier(random_state=42,n_estimators=100)\n",
    "random_forest.fit(x_train, y_train)\n",
    "y_pred_rf = random_forest.predict(x_test)\n",
    "accuracy_rf = accuracy_score(y_test, y_pred_rf)\n",
    "accuracy_rf"
   ]
  },
  {
   "cell_type": "code",
   "execution_count": 30,
   "id": "8680d5ce",
   "metadata": {},
   "outputs": [
    {
     "name": "stdout",
     "output_type": "stream",
     "text": [
      "\n",
      "Classification Report for Logistic Regression:\n",
      "               precision    recall  f1-score   support\n",
      "\n",
      "           0       1.00      1.00      1.00    553574\n",
      "           1       0.00      0.00      0.00      2145\n",
      "\n",
      "    accuracy                           1.00    555719\n",
      "   macro avg       0.50      0.50      0.50    555719\n",
      "weighted avg       0.99      1.00      0.99    555719\n",
      "\n",
      "\n",
      "Classification Report for Decision Tree:\n",
      "               precision    recall  f1-score   support\n",
      "\n",
      "           0       1.00      1.00      1.00    553574\n",
      "           1       1.00      1.00      1.00      2145\n",
      "\n",
      "    accuracy                           1.00    555719\n",
      "   macro avg       1.00      1.00      1.00    555719\n",
      "weighted avg       1.00      1.00      1.00    555719\n",
      "\n",
      "\n",
      "Classification Report for Random Forest:\n",
      "               precision    recall  f1-score   support\n",
      "\n",
      "           0       1.00      1.00      1.00    553574\n",
      "           1       1.00      1.00      1.00      2145\n",
      "\n",
      "    accuracy                           1.00    555719\n",
      "   macro avg       1.00      1.00      1.00    555719\n",
      "weighted avg       1.00      1.00      1.00    555719\n",
      "\n"
     ]
    }
   ],
   "source": [
    "# Print classification report for each model\n",
    "print(\"\\nClassification Report for Logistic Regression:\\n\", classification_report(y_test, y_pred_logistic))\n",
    "print(\"\\nClassification Report for Decision Tree:\\n\", classification_report(y_test, y_pred_dt))\n",
    "print(\"\\nClassification Report for Random Forest:\\n\", classification_report(y_test, y_pred_rf))"
   ]
  },
  {
   "cell_type": "code",
   "execution_count": null,
   "id": "9e9f434b",
   "metadata": {},
   "outputs": [],
   "source": []
  }
 ],
 "metadata": {
  "kernelspec": {
   "display_name": "Python 3 (ipykernel)",
   "language": "python",
   "name": "python3"
  },
  "language_info": {
   "codemirror_mode": {
    "name": "ipython",
    "version": 3
   },
   "file_extension": ".py",
   "mimetype": "text/x-python",
   "name": "python",
   "nbconvert_exporter": "python",
   "pygments_lexer": "ipython3",
   "version": "3.9.7"
  }
 },
 "nbformat": 4,
 "nbformat_minor": 5
}
